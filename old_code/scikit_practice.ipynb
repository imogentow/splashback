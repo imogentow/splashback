{
 "cells": [
  {
   "cell_type": "code",
   "execution_count": 65,
   "id": "0a32404f",
   "metadata": {},
   "outputs": [],
   "source": [
    "#Practice ML stuff"
   ]
  },
  {
   "cell_type": "code",
   "execution_count": 137,
   "id": "42ef19b7",
   "metadata": {},
   "outputs": [],
   "source": [
    "import numpy as np\n",
    "from numpy.polynomial.polynomial import polyfromroots\n",
    "from sklearn import tree\n",
    "from sklearn.model_selection import train_test_split\n",
    "from sklearn import metrics\n",
    "import matplotlib.pyplot as plt\n",
    "from scipy.signal import argrelextrema"
   ]
  },
  {
   "cell_type": "code",
   "execution_count": 91,
   "id": "69376f37",
   "metadata": {},
   "outputs": [],
   "source": [
    "# Make fake data to try it out on\n",
    "\n",
    "def fake_profiles(x, roots):\n",
    "    c = polyfromroots(roots) #gives polynomial coefficients before integrating back\n",
    "    y = 0 #change to chosen const \n",
    "    N_roots = len(roots)\n",
    "    for i in range(N_roots+1):\n",
    "        temp = c[i]/(i+1) * x**(i+1)\n",
    "        y += temp\n",
    "    return y\n"
   ]
  },
  {
   "cell_type": "code",
   "execution_count": 92,
   "id": "5879315a",
   "metadata": {},
   "outputs": [],
   "source": [
    "def minima_finding(data):\n",
    "    \n",
    "    minima = argrelextrema(data, np.less)[0] #all minima\n",
    "    test_SP = np.argmin(data) #lowest data point\n",
    "                 \n",
    "    minima_range = np.arange(156,200,1) \n",
    "\n",
    "    k = 0\n",
    "    l = 0\n",
    "        \n",
    "    #where to saev minima values found to be in range\n",
    "    minima_in_range = np.array([], dtype=int)\n",
    "    for j in minima:\n",
    "        if j in minima_range:\n",
    "            test_SP = j\n",
    "            minima_in_range = np.append(minima_in_range, j)\n",
    "            l += 1\n",
    "        else:\n",
    "            k += 1\n",
    "                \n",
    "    if l > 1:\n",
    "        #if there are more than one minima in range, take the deepest\n",
    "        test_SP = minima_in_range[np.argmin(data[minima_in_range])]\n",
    "                \n",
    "    elif k == len(minima):\n",
    "        #if there are no minima in range, take the deepest overall\n",
    "        test_SP = minima[np.argmin(data[minima])]\n",
    "\n",
    "        \n",
    "    return test_SP #returns arg of minima"
   ]
  },
  {
   "cell_type": "code",
   "execution_count": 122,
   "id": "34355744",
   "metadata": {},
   "outputs": [],
   "source": [
    "N_data_set = 1000\n",
    "N_data = 200\n",
    "\n",
    "x = np.linspace(0,1.5,N_data)\n",
    "\n",
    "X = np.zeros((N_data_set, N_data))\n",
    "y = np.zeros(N_data_set)\n",
    "\n",
    "for i in range(N_data_set):\n",
    "    roots1 = np.random.randint(30,60,size=3)/60\n",
    "    roots2 = np.random.randint(-10,120,size=4)/60\n",
    "    roots = np.hstack((roots1,roots2))\n",
    "    poly = fake_profiles(x, roots)\n",
    "    poly = poly / np.mean(poly) * -2\n",
    "    X[i,:] = poly\n",
    "    try:\n",
    "        y[i] = x[minima_finding(poly)]\n",
    "    except ValueError:\n",
    "        plt.plot(x, poly)\n",
    "        plt.show()\n",
    "    "
   ]
  },
  {
   "cell_type": "code",
   "execution_count": 135,
   "id": "62f5f286",
   "metadata": {},
   "outputs": [],
   "source": [
    "X_train, X_test, y_train, y_test = train_test_split(X, y, test_size=0.1)\n",
    "DTreg = tree.DecisionTreeRegressor()\n",
    "DTreg = DTreg.fit(X_train, y_train)\n",
    "y_predict = DTreg.predict(X_test)"
   ]
  },
  {
   "cell_type": "code",
   "execution_count": 139,
   "id": "1e9a22b5",
   "metadata": {},
   "outputs": [
    {
     "data": {
      "image/png": "[encoded data removed]",
      "text/plain": [
       "<Figure size 432x288 with 1 Axes>"
      ]
     },
     "metadata": {
      "needs_background": "light"
     },
     "output_type": "display_data"
    }
   ],
   "source": [
    "plt.scatter(y_predict, y_test)\n",
    "plt.show()\n"
   ]
  },
  {
   "cell_type": "code",
   "execution_count": null,
   "id": "0393eee0",
   "metadata": {},
   "outputs": [],
   "source": []
  }
 ],
 "metadata": {
  "kernelspec": {
   "display_name": "Python 3",
   "language": "python",
   "name": "python3"
  },
  "language_info": {
   "codemirror_mode": {
    "name": "ipython",
    "version": 3
   },
   "file_extension": ".py",
   "mimetype": "text/x-python",
   "name": "python",
   "nbconvert_exporter": "python",
   "pygments_lexer": "ipython3",
   "version": "3.8.8"
  }
 },
 "nbformat": 4,
 "nbformat_minor": 5
}
