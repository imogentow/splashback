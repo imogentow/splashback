{
 "cells": [
  {
   "cell_type": "code",
   "execution_count": 33,
   "id": "e6275688",
   "metadata": {},
   "outputs": [],
   "source": [
    "import numpy as np\n",
    "import matplotlib.pyplot as plt\n",
    "\n",
    "from sklearn import tree\n",
    "from sklearn import linear_model as lm\n",
    "from sklearn import svm\n",
    "import sklearn.neural_network as nn\n",
    "from sklearn import ensemble as en\n",
    "from sklearn import neighbors as nb\n",
    "from sklearn.model_selection import train_test_split\n",
    "from sklearn.model_selection import KFold\n",
    "from sklearn.model_selection import cross_val_score\n",
    "from sklearn import metrics\n",
    "\n",
    "import splashback as sp"
   ]
  },
  {
   "cell_type": "code",
   "execution_count": 2,
   "id": "5d1b2a4c",
   "metadata": {},
   "outputs": [],
   "source": [
    "#read in data\n",
    "macsis = sp.macsis()\n",
    "ceagle = sp.ceagle()\n",
    "\n",
    "N_macsis = 390\n",
    "N_ceagle = 30\n",
    "\n",
    "N_bins = 40\n",
    "log_radii = np.linspace(-1, 0.6, N_bins+1)\n",
    "rad_mid = (10**log_radii[1:] + 10**log_radii[:-1]) / 2"
   ]
  },
  {
   "cell_type": "code",
   "execution_count": 3,
   "id": "91343bc0",
   "metadata": {},
   "outputs": [],
   "source": [
    "#calculate splashback radii in 2D\n",
    "macsis.RSP_DM = sp.R_SP_finding(rad_mid, macsis.DM_median)\n",
    "macsis.RSP_EM = sp.R_SP_finding(rad_mid, macsis.EM_median)\n",
    "macsis.RSP_SD = sp.R_SP_finding(rad_mid, macsis.SD_median)\n",
    "macsis.RSP_SZ = sp.R_SP_finding(rad_mid, macsis.SZ_median)\n",
    "\n",
    "ceagle.RSP_DM = sp.R_SP_finding(rad_mid, ceagle.DM_median)\n",
    "ceagle.RSP_EM = sp.R_SP_finding(rad_mid, ceagle.EM_median)\n",
    "ceagle.RSP_SD = sp.R_SP_finding(rad_mid, ceagle.SD_median)\n",
    "ceagle.RSP_SZ = sp.R_SP_finding(rad_mid, ceagle.SZ_median)"
   ]
  },
  {
   "cell_type": "code",
   "execution_count": 4,
   "id": "4fd64138",
   "metadata": {},
   "outputs": [],
   "source": [
    "#make ML data set\n",
    "X = np.vstack((macsis.DM_median, macsis.EM_median, macsis.SD_median, macsis.SZ_median))\n",
    "y = np.hstack((macsis.RSP_DM, macsis.RSP_EM, macsis.RSP_SD, macsis.RSP_SZ))\n",
    "\n",
    "#ceagle_X = np.vstack((ceagle.DM_median, ceagle.EM_median, ceagle.SD_median, ceagle.SZ_median))\n",
    "#ceagle_y = np.hstack((ceagle.RSP_DM, ceagle.RSP_EM, ceagle.RSP_SD, ceagle.RSP_SZ))\n",
    "\n",
    "#X = np.vstack((macsis_X, ceagle_X))\n",
    "#y = np.hstack((macsis_y, ceagle_y))\n",
    "\n",
    "#X = macsis.SZ_median\n",
    "#y = macsis.RSP_SZ"
   ]
  },
  {
   "cell_type": "code",
   "execution_count": 10,
   "id": "643b646c",
   "metadata": {},
   "outputs": [],
   "source": [
    "X_train, X_test, y_train, y_test = train_test_split(X, y, test_size=0.1)\n",
    "kf = KFold(n_splits=10, shuffle=True)"
   ]
  },
  {
   "cell_type": "markdown",
   "id": "8ec73ae9",
   "metadata": {},
   "source": [
    "# Model testing"
   ]
  },
  {
   "cell_type": "markdown",
   "id": "e5bfdd38",
   "metadata": {},
   "source": [
    "# Linear models"
   ]
  },
  {
   "cell_type": "code",
   "execution_count": 11,
   "id": "f50695f6",
   "metadata": {},
   "outputs": [
    {
     "name": "stdout",
     "output_type": "stream",
     "text": [
      "-0.0871300143116599 0.0071751317930684065\n"
     ]
    }
   ],
   "source": [
    "OLR = lm.LinearRegression()\n",
    "scatter_OLR = cross_val_score(OLR, X, y, cv=kf, scoring='neg_mean_squared_error')\n",
    "mean_OLR = np.mean(scatter_OLR)\n",
    "std_OLR = np.std(scatter_OLR)\n",
    "print(mean_OLR, std_OLR)"
   ]
  },
  {
   "cell_type": "code",
   "execution_count": 12,
   "id": "081c7fac",
   "metadata": {},
   "outputs": [
    {
     "data": {
      "image/png": "[encoded data removed]",
      "text/plain": [
       "<Figure size 432x288 with 1 Axes>"
      ]
     },
     "metadata": {
      "needs_background": "light"
     },
     "output_type": "display_data"
    }
   ],
   "source": [
    "OLR = OLR.fit(X_train, y_train)\n",
    "y_predict = OLR.predict(X_test)\n",
    "plt.scatter(y_predict, y_test)\n",
    "plt.show()"
   ]
  },
  {
   "cell_type": "code",
   "execution_count": 13,
   "id": "25bbab7e",
   "metadata": {},
   "outputs": [
    {
     "name": "stdout",
     "output_type": "stream",
     "text": [
      "-0.0869421381625211 0.008596469838210942\n"
     ]
    }
   ],
   "source": [
    "RR = lm.Ridge(alpha=0.15)\n",
    "scatter_RR = cross_val_score(RR, X, y, cv=kf, scoring='neg_mean_squared_error')\n",
    "mean_RR = np.mean(scatter_RR)\n",
    "std_RR = np.std(scatter_RR)\n",
    "print(mean_RR, std_RR)"
   ]
  },
  {
   "cell_type": "code",
   "execution_count": 14,
   "id": "7d451b25",
   "metadata": {},
   "outputs": [
    {
     "data": {
      "image/png": "[encoded data removed]",
      "text/plain": [
       "<Figure size 432x288 with 1 Axes>"
      ]
     },
     "metadata": {
      "needs_background": "light"
     },
     "output_type": "display_data"
    }
   ],
   "source": [
    "RR = RR.fit(X_train, y_train)\n",
    "y_predict = RR.predict(X_test)\n",
    "plt.scatter(y_predict, y_test)\n",
    "plt.show()"
   ]
  },
  {
   "cell_type": "code",
   "execution_count": 15,
   "id": "1fc1534d",
   "metadata": {},
   "outputs": [
    {
     "name": "stdout",
     "output_type": "stream",
     "text": [
      "-0.08539730912875729 0.0044663887212558024\n"
     ]
    }
   ],
   "source": [
    "Lss = lm.Lasso(alpha=0.15)\n",
    "scatter_Lss = cross_val_score(Lss, X, y, cv=kf, scoring='neg_mean_squared_error')\n",
    "mean_Lss = np.mean(scatter_Lss)\n",
    "std_Lss = np.std(scatter_Lss)\n",
    "print(mean_Lss, std_Lss)"
   ]
  },
  {
   "cell_type": "code",
   "execution_count": 16,
   "id": "8661a345",
   "metadata": {},
   "outputs": [
    {
     "data": {
      "image/png": "[encoded data removed]",
      "text/plain": [
       "<Figure size 432x288 with 1 Axes>"
      ]
     },
     "metadata": {
      "needs_background": "light"
     },
     "output_type": "display_data"
    }
   ],
   "source": [
    "Lss = Lss.fit(X_train, y_train)\n",
    "y_predict = Lss.predict(X_test)\n",
    "plt.scatter(y_predict, y_test)\n",
    "plt.show()"
   ]
  },
  {
   "cell_type": "markdown",
   "id": "13296f03",
   "metadata": {},
   "source": [
    "# Support vector machines"
   ]
  },
  {
   "cell_type": "code",
   "execution_count": 17,
   "id": "71a777bf",
   "metadata": {},
   "outputs": [
    {
     "name": "stdout",
     "output_type": "stream",
     "text": [
      "-0.07889710234477756 0.007105738073938845\n"
     ]
    }
   ],
   "source": [
    "SVR = svm.SVR()\n",
    "scatter_SVR = cross_val_score(SVR, X, y, cv=kf, scoring='neg_mean_squared_error')\n",
    "mean_SVR = np.mean(scatter_SVR)\n",
    "std_SVR = np.std(scatter_SVR)\n",
    "print(mean_SVR, std_SVR)"
   ]
  },
  {
   "cell_type": "code",
   "execution_count": 18,
   "id": "572139f5",
   "metadata": {},
   "outputs": [
    {
     "data": {
      "image/png": "[encoded data removed]",
      "text/plain": [
       "<Figure size 432x288 with 1 Axes>"
      ]
     },
     "metadata": {
      "needs_background": "light"
     },
     "output_type": "display_data"
    }
   ],
   "source": [
    "SVR = SVR.fit(X_train, y_train)\n",
    "y_predict = SVR.predict(X_test)\n",
    "plt.scatter(y_predict, y_test)\n",
    "plt.show()"
   ]
  },
  {
   "cell_type": "markdown",
   "id": "bed62b79",
   "metadata": {},
   "source": [
    "# Decision trees"
   ]
  },
  {
   "cell_type": "code",
   "execution_count": 19,
   "id": "50b393a9",
   "metadata": {},
   "outputs": [
    {
     "name": "stdout",
     "output_type": "stream",
     "text": [
      "-0.043310405418827025 0.006828878437005045\n"
     ]
    }
   ],
   "source": [
    "DTreg = tree.DecisionTreeRegressor(max_depth=15)\n",
    "kf = KFold(n_splits=10, shuffle=True)\n",
    "\n",
    "scatter_DTreg = cross_val_score(DTreg, X, y, cv=kf, scoring='neg_mean_squared_error')\n",
    "mean_DTreg = np.mean(scatter_DTreg)\n",
    "std_DTreg = np.std(scatter_DTreg)\n",
    "print(mean_DTreg, std_DTreg)"
   ]
  },
  {
   "cell_type": "code",
   "execution_count": 20,
   "id": "23d45bb7",
   "metadata": {},
   "outputs": [
    {
     "data": {
      "image/png": "[encoded data removed]",
      "text/plain": [
       "<Figure size 432x288 with 1 Axes>"
      ]
     },
     "metadata": {
      "needs_background": "light"
     },
     "output_type": "display_data"
    }
   ],
   "source": [
    "DTreg = DTreg.fit(X_train, y_train)\n",
    "y_predict = DTreg.predict(X_test)\n",
    "plt.scatter(y_predict, y_test)\n",
    "plt.show()"
   ]
  },
  {
   "cell_type": "code",
   "execution_count": 21,
   "id": "9d67e3ba",
   "metadata": {},
   "outputs": [
    {
     "name": "stdout",
     "output_type": "stream",
     "text": [
      "-0.027473954192909805 0.002603335553454054\n"
     ]
    }
   ],
   "source": [
    "GBDT = en.GradientBoostingRegressor(max_depth=5)\n",
    "scatter_GBDT = cross_val_score(GBDT, X, y, cv=kf, scoring='neg_mean_squared_error')\n",
    "mean_GBDT = np.mean(scatter_GBDT)\n",
    "std_GBDT = np.std(scatter_GBDT)\n",
    "print(mean_GBDT, std_GBDT)"
   ]
  },
  {
   "cell_type": "code",
   "execution_count": 22,
   "id": "0c7ef69c",
   "metadata": {},
   "outputs": [
    {
     "data": {
      "image/png": "[encoded data removed]",
      "text/plain": [
       "<Figure size 432x288 with 1 Axes>"
      ]
     },
     "metadata": {
      "needs_background": "light"
     },
     "output_type": "display_data"
    }
   ],
   "source": [
    "GBDT = GBDT.fit(X_train, y_train)\n",
    "y_predict = GBDT.predict(X_test)\n",
    "plt.scatter(y_predict, y_test)\n",
    "plt.show()"
   ]
  },
  {
   "cell_type": "code",
   "execution_count": 23,
   "id": "d67514b6",
   "metadata": {},
   "outputs": [
    {
     "name": "stdout",
     "output_type": "stream",
     "text": [
      "-0.06763654903396846 0.0016312584821364443\n"
     ]
    }
   ],
   "source": [
    "ADT = en.AdaBoostRegressor()\n",
    "scatter_ADT = cross_val_score(ADT, X, y, cv=kf, scoring='neg_mean_squared_error')\n",
    "mean_ADT = np.mean(scatter_ADT)\n",
    "std_ADT = np.std(scatter_ADT)\n",
    "print(mean_ADT, std_ADT)"
   ]
  },
  {
   "cell_type": "code",
   "execution_count": 24,
   "id": "9f408725",
   "metadata": {},
   "outputs": [
    {
     "data": {
      "image/png": "[encoded data removed]",
      "text/plain": [
       "<Figure size 432x288 with 1 Axes>"
      ]
     },
     "metadata": {
      "needs_background": "light"
     },
     "output_type": "display_data"
    }
   ],
   "source": [
    "ADT = ADT.fit(X_train, y_train)\n",
    "y_predict = ADT.predict(X_test)\n",
    "plt.scatter(y_predict, y_test)\n",
    "plt.show()"
   ]
  },
  {
   "cell_type": "code",
   "execution_count": 57,
   "id": "51a137d1",
   "metadata": {},
   "outputs": [
    {
     "name": "stdout",
     "output_type": "stream",
     "text": [
      "-0.021484658390209816 0.003047352080278662\n"
     ]
    }
   ],
   "source": [
    "RF = en.RandomForestRegressor()\n",
    "scatter_RF = cross_val_score(RF, X, y, cv=kf, scoring='neg_mean_squared_error')\n",
    "mean_RF = np.mean(scatter_RF)\n",
    "std_RF = np.std(scatter_RF)\n",
    "print(mean_RF, std_RF)"
   ]
  },
  {
   "cell_type": "code",
   "execution_count": 58,
   "id": "684ff360",
   "metadata": {},
   "outputs": [
    {
     "data": {
      "image/png": "[encoded data removed]",
      "text/plain": [
       "<Figure size 432x288 with 1 Axes>"
      ]
     },
     "metadata": {
      "needs_background": "light"
     },
     "output_type": "display_data"
    }
   ],
   "source": [
    "RF = RF.fit(X_train, y_train)\n",
    "y_predict = RF.predict(X_test)\n",
    "plt.scatter(y_predict, y_test)\n",
    "plt.show()"
   ]
  },
  {
   "cell_type": "markdown",
   "id": "456b28c1",
   "metadata": {},
   "source": [
    "# Neural networks"
   ]
  },
  {
   "cell_type": "code",
   "execution_count": 25,
   "id": "9b5ddad9",
   "metadata": {},
   "outputs": [
    {
     "name": "stdout",
     "output_type": "stream",
     "text": [
      "-822.9842554000512 716.1059816925197\n"
     ]
    }
   ],
   "source": [
    "NN = nn.MLPRegressor()\n",
    "scatter_NN = cross_val_score(NN, X, y, cv=kf, scoring='neg_mean_squared_error')\n",
    "mean_NN = np.mean(scatter_NN)\n",
    "std_NN = np.std(scatter_NN)\n",
    "print(mean_NN, std_NN)"
   ]
  },
  {
   "cell_type": "code",
   "execution_count": 26,
   "id": "2c8f2c57",
   "metadata": {},
   "outputs": [
    {
     "data": {
      "image/png": "[encoded data removed]",
      "text/plain": [
       "<Figure size 432x288 with 1 Axes>"
      ]
     },
     "metadata": {
      "needs_background": "light"
     },
     "output_type": "display_data"
    }
   ],
   "source": [
    "NN = NN.fit(X_train, y_train)\n",
    "y_predict = NN.predict(X_test)\n",
    "plt.scatter(y_predict, y_test)\n",
    "plt.show()"
   ]
  },
  {
   "cell_type": "markdown",
   "id": "9a732772",
   "metadata": {},
   "source": [
    "# Nearest neighbours"
   ]
  },
  {
   "cell_type": "code",
   "execution_count": 55,
   "id": "558217e7",
   "metadata": {},
   "outputs": [
    {
     "name": "stdout",
     "output_type": "stream",
     "text": [
      "-0.027640777243470898 0.0022984416438732993\n"
     ]
    }
   ],
   "source": [
    "kNN = nb.KNeighborsRegressor(n_neighbors=9, weights=\"distance\")\n",
    "scatter_kNN = cross_val_score(kNN, X, y, cv=kf, scoring='neg_mean_squared_error')\n",
    "mean_kNN = np.mean(scatter_kNN)\n",
    "std_kNN = np.std(scatter_kNN)\n",
    "print(mean_kNN, std_kNN)"
   ]
  },
  {
   "cell_type": "code",
   "execution_count": 56,
   "id": "8bb95d38",
   "metadata": {},
   "outputs": [
    {
     "data": {
      "image/png": "[encoded data removed]",
      "text/plain": [
       "<Figure size 432x288 with 1 Axes>"
      ]
     },
     "metadata": {
      "needs_background": "light"
     },
     "output_type": "display_data"
    },
    {
     "name": "stdout",
     "output_type": "stream",
     "text": [
      "0.727926960789247\n"
     ]
    }
   ],
   "source": [
    "kNN = kNN.fit(X_train, y_train)\n",
    "y_predict = kNN.predict(X_test)\n",
    "plt.scatter(y_predict, y_test)\n",
    "plt.show()\n",
    "print(metrics.r2_score(y_test, y_predict))"
   ]
  },
  {
   "cell_type": "code",
   "execution_count": 46,
   "id": "3ee87ed6",
   "metadata": {},
   "outputs": [],
   "source": [
    "RNN = nb.RadiusNeighborsRegressor(radius=4, weights=\"distance\")\n",
    "#scatter_RNN = cross_val_score(RNN, X, y, cv=kf, scoring='neg_mean_squared_error')\n",
    "#mean_RNN = np.nanmean(scatter_RNN)\n",
    "#std_RNN = np.nanstd(scatter_RNN)\n",
    "#print(mean_RNN, std_RNN)"
   ]
  },
  {
   "cell_type": "code",
   "execution_count": 51,
   "id": "2df2173e",
   "metadata": {},
   "outputs": [
    {
     "name": "stderr",
     "output_type": "stream",
     "text": [
      "C:\\Work\\Anaconda3\\lib\\site-packages\\sklearn\\neighbors\\_regression.py:421: UserWarning: One or more samples have no neighbors within specified radius; predicting NaN.\n",
      "  warnings.warn(empty_warning_msg)\n"
     ]
    },
    {
     "data": {
      "image/png": "[encoded data removed]",
      "text/plain": [
       "<Figure size 432x288 with 1 Axes>"
      ]
     },
     "metadata": {
      "needs_background": "light"
     },
     "output_type": "display_data"
    },
    {
     "name": "stdout",
     "output_type": "stream",
     "text": [
      "468\n",
      "164\n",
      "0.6557830679129919\n"
     ]
    }
   ],
   "source": [
    "RNN = RNN.fit(X_train, y_train)\n",
    "y_predict = RNN.predict(X_test)\n",
    "plt.scatter(y_predict, y_test)\n",
    "plt.show()\n",
    "\n",
    "print(len(y_predict))\n",
    "print(len(y_predict[np.isnan(y_predict)]))\n",
    "inc = np.isfinite(y_predict)\n",
    "print(metrics.r2_score(y_test[inc], y_predict[inc]))"
   ]
  },
  {
   "cell_type": "code",
   "execution_count": null,
   "id": "c4ea54d7",
   "metadata": {},
   "outputs": [],
   "source": []
  }
 ],
 "metadata": {
  "kernelspec": {
   "display_name": "Python 3",
   "language": "python",
   "name": "python3"
  },
  "language_info": {
   "codemirror_mode": {
    "name": "ipython",
    "version": 3
   },
   "file_extension": ".py",
   "mimetype": "text/x-python",
   "name": "python",
   "nbconvert_exporter": "python",
   "pygments_lexer": "ipython3",
   "version": "3.8.8"
  }
 },
 "nbformat": 4,
 "nbformat_minor": 5
}
