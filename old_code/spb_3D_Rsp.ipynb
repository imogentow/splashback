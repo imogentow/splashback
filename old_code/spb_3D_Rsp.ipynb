{
 "cells": [
  {
   "cell_type": "code",
   "execution_count": 1,
   "id": "bb4b8718",
   "metadata": {},
   "outputs": [],
   "source": [
    "import numpy as np\n",
    "import matplotlib.pyplot as plt\n",
    "\n",
    "from sklearn import tree\n",
    "from sklearn import linear_model as lm\n",
    "from sklearn import svm\n",
    "import sklearn.neural_network as nn\n",
    "from sklearn import ensemble as en\n",
    "from sklearn import neighbors as nb\n",
    "from sklearn.model_selection import train_test_split\n",
    "from sklearn.model_selection import KFold\n",
    "from sklearn.model_selection import cross_val_score\n",
    "from sklearn import metrics\n",
    "from sklearn.feature_selection import RFECV\n",
    "from sklearn.feature_selection import RFE\n",
    "\n",
    "import splashback as sp"
   ]
  },
  {
   "cell_type": "code",
   "execution_count": 2,
   "id": "47334b84",
   "metadata": {},
   "outputs": [],
   "source": [
    "#read in data\n",
    "macsis = sp.macsis()\n",
    "macsis.read_morphologies()\n",
    "#ceagle = sp.ceagle()\n",
    "\n",
    "N_macsis = 390\n",
    "N_ceagle = 30\n",
    "\n",
    "N_bins = 40\n",
    "log_radii = np.linspace(-1, 0.6, N_bins+1)\n",
    "rad_mid = (10**log_radii[1:] + 10**log_radii[:-1]) / 2"
   ]
  },
  {
   "cell_type": "code",
   "execution_count": 3,
   "id": "bb0a9ad7",
   "metadata": {},
   "outputs": [],
   "source": [
    "macsis.RSP_DM = sp.R_SP_finding(rad_mid, macsis.DM_density_3D)\n",
    "#macsis.RSP_gas = sp.R_SP_finding(rad_mid, macsis.gas_density_3D)\n",
    "#macsis.RSP_star = sp.R_SP_finding(rad_mid, macsis.star_density_3D)"
   ]
  },
  {
   "cell_type": "code",
   "execution_count": 4,
   "id": "26a1dfc8",
   "metadata": {},
   "outputs": [],
   "source": [
    "#calculate splashback radii in 2D\n",
    "macsis.RSP_WL = sp.R_SP_finding(rad_mid, macsis.DM_median)\n",
    "macsis.RSP_EM = sp.R_SP_finding(rad_mid, macsis.EM_median)\n",
    "macsis.RSP_SD = sp.R_SP_finding(rad_mid, macsis.SD_median)\n",
    "macsis.RSP_SZ = sp.R_SP_finding(rad_mid, macsis.SZ_median)\n",
    "\n",
    "#ceagle.RSP_WL = sp.R_SP_finding(rad_mid, ceagle.DM_median)\n",
    "#ceagle.RSP_EM = sp.R_SP_finding(rad_mid, ceagle.EM_median)\n",
    "#ceagle.RSP_SD = sp.R_SP_finding(rad_mid, ceagle.SD_median)\n",
    "#ceagle.RSP_SZ = sp.R_SP_finding(rad_mid, ceagle.SZ_median)"
   ]
  },
  {
   "cell_type": "code",
   "execution_count": 5,
   "id": "f767abd9",
   "metadata": {},
   "outputs": [
    {
     "data": {
      "image/png": "[encoded data removed]",
      "text/plain": [
       "<Figure size 432x288 with 1 Axes>"
      ]
     },
     "metadata": {
      "needs_background": "light"
     },
     "output_type": "display_data"
    },
    {
     "name": "stdout",
     "output_type": "stream",
     "text": [
      "-1.1287656964328976\n"
     ]
    }
   ],
   "source": [
    "plt.figure()\n",
    "plt.scatter(macsis.RSP_WL[:117], macsis.RSP_DM[:117], edgecolor=\"k\") #first 117 to match number above\n",
    "ylim = plt.gca().get_ylim()\n",
    "xlim = plt.gca().get_xlim()\n",
    "plt.plot(ylim, ylim, linestyle=\"--\", color=\"k\")\n",
    "plt.ylim(ylim)\n",
    "plt.xlim(xlim)\n",
    "plt.xlabel(\"$R_{SP, WL}$\")\n",
    "plt.ylabel(\"$R_{SP, DM}$\")\n",
    "plt.show()\n",
    "print(metrics.r2_score(macsis.RSP_DM[:117], macsis.RSP_WL[:117])) #not really fair to use this method on this data\n",
    "#should use a statistic that can be used on both the fits and the 2D v 3D data"
   ]
  },
  {
   "cell_type": "code",
   "execution_count": 6,
   "id": "f1c3f680",
   "metadata": {},
   "outputs": [],
   "source": [
    "#read in shape data about clusters\n",
    "#radii = np.linspace(0.5, 1.5, 10) #for reference\n",
    "ellipticity_x = np.genfromtxt(\"splashback_data/macsis/ellipticity_profiles_x_macsis.csv\", delimiter=\",\")\n",
    "ellipticity_y = np.genfromtxt(\"splashback_data/macsis/ellipticity_profiles_y_macsis.csv\", delimiter=\",\")\n",
    "ellipticity_z = np.genfromtxt(\"splashback_data/macsis/ellipticity_profiles_z_macsis.csv\", delimiter=\",\")\n",
    "\n",
    "substructure_x = np.genfromtxt(\"splashback_data/macsis/substructure_profiles_x_macsis.csv\", delimiter=\",\")\n",
    "substructure_y = np.genfromtxt(\"splashback_data/macsis/substructure_profiles_y_macsis.csv\", delimiter=\",\")\n",
    "substructure_z = np.genfromtxt(\"splashback_data/macsis/substructure_profiles_z_macsis.csv\", delimiter=\",\")\n",
    "\n",
    "ellipticity = np.vstack((ellipticity_x, ellipticity_y, ellipticity_z))\n",
    "substructure = np.vstack((substructure_x, substructure_y, substructure_z))\n",
    "\n"
   ]
  },
  {
   "cell_type": "code",
   "execution_count": 7,
   "id": "a6e79e11",
   "metadata": {},
   "outputs": [],
   "source": [
    "X_RSP = np.vstack((macsis.RSP_WL, macsis.RSP_EM, macsis.RSP_SD, macsis.RSP_SZ)).T\n",
    "X_profiles = np.hstack((macsis.DM_median, macsis.EM_median, macsis.SD_median, macsis.SZ_median))\n",
    "X_morph = np.vstack((macsis.concentration, macsis.symmetry, macsis.alignment, macsis.centroid)).T\n",
    "X = np.hstack((X_RSP, X_morph, ellipticity, substructure))\n",
    "\n",
    "y = np.hstack((macsis.RSP_DM, macsis.RSP_DM, macsis.RSP_DM)) #be careful about repeat results"
   ]
  },
  {
   "cell_type": "code",
   "execution_count": 8,
   "id": "67ed9d2f",
   "metadata": {},
   "outputs": [],
   "source": [
    "X_train, X_test, y_train, y_test = train_test_split(X, y, test_size=0.1)\n",
    "kf = KFold(n_splits=10, shuffle=True)"
   ]
  },
  {
   "cell_type": "code",
   "execution_count": 38,
   "id": "cf0bea97",
   "metadata": {},
   "outputs": [
    {
     "name": "stdout",
     "output_type": "stream",
     "text": [
      "-0.08744906827719305 0.010577186526040689\n"
     ]
    }
   ],
   "source": [
    "OLR = lm.LinearRegression()\n",
    "scatter_OLR = cross_val_score(OLR, X, y, cv=kf, scoring='neg_mean_squared_error')\n",
    "mean_OLR = np.mean(scatter_OLR)\n",
    "std_OLR = np.std(scatter_OLR)\n",
    "print(mean_OLR, std_OLR)"
   ]
  },
  {
   "cell_type": "code",
   "execution_count": 39,
   "id": "5179e444",
   "metadata": {},
   "outputs": [
    {
     "data": {
      "image/png": "[encoded data removed]",
      "text/plain": [
       "<Figure size 432x288 with 1 Axes>"
      ]
     },
     "metadata": {
      "needs_background": "light"
     },
     "output_type": "display_data"
    }
   ],
   "source": [
    "OLR = OLR.fit(X_train, y_train)\n",
    "y_predict = OLR.predict(X_test)\n",
    "plt.scatter(y_predict, y_test)\n",
    "plt.show()"
   ]
  },
  {
   "cell_type": "code",
   "execution_count": 40,
   "id": "962c398a",
   "metadata": {},
   "outputs": [
    {
     "name": "stdout",
     "output_type": "stream",
     "text": [
      "-0.08112746885390333 0.016887940587242273\n"
     ]
    }
   ],
   "source": [
    "RR = lm.Ridge()\n",
    "scatter_RR = cross_val_score(RR, X, y, cv=kf, scoring='neg_mean_squared_error')\n",
    "mean_RR = np.mean(scatter_RR)\n",
    "std_RR = np.std(scatter_RR)\n",
    "print(mean_RR, std_RR)"
   ]
  },
  {
   "cell_type": "code",
   "execution_count": 41,
   "id": "f17d282a",
   "metadata": {},
   "outputs": [
    {
     "data": {
      "image/png": "[encoded data removed]",
      "text/plain": [
       "<Figure size 432x288 with 1 Axes>"
      ]
     },
     "metadata": {
      "needs_background": "light"
     },
     "output_type": "display_data"
    }
   ],
   "source": [
    "RR = RR.fit(X_train, y_train)\n",
    "y_predict = RR.predict(X_test)\n",
    "plt.scatter(y_predict, y_test)\n",
    "plt.show()"
   ]
  },
  {
   "cell_type": "code",
   "execution_count": 42,
   "id": "eac008b9",
   "metadata": {},
   "outputs": [
    {
     "name": "stdout",
     "output_type": "stream",
     "text": [
      "-0.07649955927759028 0.012758874465401035\n"
     ]
    }
   ],
   "source": [
    "Lss = lm.Lasso(alpha=0.15)\n",
    "scatter_Lss = cross_val_score(Lss, X, y, cv=kf, scoring='neg_mean_squared_error')\n",
    "mean_Lss = np.mean(scatter_Lss)\n",
    "std_Lss = np.std(scatter_Lss)\n",
    "print(mean_Lss, std_Lss)"
   ]
  },
  {
   "cell_type": "code",
   "execution_count": 43,
   "id": "70288717",
   "metadata": {},
   "outputs": [
    {
     "data": {
      "image/png": "[encoded data removed]",
      "text/plain": [
       "<Figure size 432x288 with 1 Axes>"
      ]
     },
     "metadata": {
      "needs_background": "light"
     },
     "output_type": "display_data"
    }
   ],
   "source": [
    "Lss = Lss.fit(X_train, y_train)\n",
    "y_predict = Lss.predict(X_test)\n",
    "plt.scatter(y_predict, y_test)\n",
    "plt.show()"
   ]
  },
  {
   "cell_type": "code",
   "execution_count": 44,
   "id": "cc966f49",
   "metadata": {},
   "outputs": [
    {
     "name": "stdout",
     "output_type": "stream",
     "text": [
      "-0.08164230153169166 0.005939408038985885\n"
     ]
    }
   ],
   "source": [
    "kNN = nb.KNeighborsRegressor(n_neighbors=9, weights=\"distance\")\n",
    "scatter_kNN = cross_val_score(kNN, X, y, cv=kf, scoring='neg_mean_squared_error')\n",
    "mean_kNN = np.mean(scatter_kNN)\n",
    "std_kNN = np.std(scatter_kNN)\n",
    "print(mean_kNN, std_kNN)"
   ]
  },
  {
   "cell_type": "code",
   "execution_count": 45,
   "id": "0407f40c",
   "metadata": {},
   "outputs": [
    {
     "data": {
      "image/png": "[encoded data removed]",
      "text/plain": [
       "<Figure size 432x288 with 1 Axes>"
      ]
     },
     "metadata": {
      "needs_background": "light"
     },
     "output_type": "display_data"
    },
    {
     "name": "stdout",
     "output_type": "stream",
     "text": [
      "-0.18332915582614318\n"
     ]
    }
   ],
   "source": [
    "kNN = kNN.fit(X_train, y_train)\n",
    "y_predict = kNN.predict(X_test)\n",
    "plt.scatter(y_predict, y_test)\n",
    "plt.show()\n",
    "print(metrics.r2_score(y_test, y_predict))"
   ]
  },
  {
   "cell_type": "code",
   "execution_count": 46,
   "id": "013509a7",
   "metadata": {},
   "outputs": [
    {
     "name": "stdout",
     "output_type": "stream",
     "text": [
      "-0.13042345539870212 0.02078512386299163\n"
     ]
    }
   ],
   "source": [
    "DTreg = tree.DecisionTreeRegressor(max_depth=15)\n",
    "kf = KFold(n_splits=10, shuffle=True)\n",
    "\n",
    "scatter_DTreg = cross_val_score(DTreg, X, y, cv=kf, scoring='neg_mean_squared_error')\n",
    "mean_DTreg = np.mean(scatter_DTreg)\n",
    "std_DTreg = np.std(scatter_DTreg)\n",
    "print(mean_DTreg, std_DTreg)"
   ]
  },
  {
   "cell_type": "code",
   "execution_count": 47,
   "id": "c0024534",
   "metadata": {},
   "outputs": [
    {
     "data": {
      "image/png": "[encoded data removed]",
      "text/plain": [
       "<Figure size 432x288 with 1 Axes>"
      ]
     },
     "metadata": {
      "needs_background": "light"
     },
     "output_type": "display_data"
    },
    {
     "name": "stdout",
     "output_type": "stream",
     "text": [
      "-1.0658573886324434\n"
     ]
    }
   ],
   "source": [
    "DTreg = DTreg.fit(X_train, y_train)\n",
    "y_predict = DTreg.predict(X_test)\n",
    "plt.scatter(y_predict, y_test)\n",
    "plt.show()\n",
    "print(metrics.r2_score(y_test, y_predict))"
   ]
  },
  {
   "cell_type": "code",
   "execution_count": 48,
   "id": "944fa32f",
   "metadata": {},
   "outputs": [
    {
     "name": "stdout",
     "output_type": "stream",
     "text": [
      "-0.06863440180862357 0.008163566988435738\n"
     ]
    }
   ],
   "source": [
    "GBDT = en.GradientBoostingRegressor(max_depth=5)\n",
    "scatter_GBDT = cross_val_score(GBDT, X, y, cv=kf, scoring='neg_mean_squared_error')\n",
    "mean_GBDT = np.mean(scatter_GBDT)\n",
    "std_GBDT = np.std(scatter_GBDT)\n",
    "print(mean_GBDT, std_GBDT)"
   ]
  },
  {
   "cell_type": "code",
   "execution_count": 49,
   "id": "f80e484a",
   "metadata": {},
   "outputs": [
    {
     "data": {
      "image/png": "[encoded data removed]",
      "text/plain": [
       "<Figure size 432x288 with 1 Axes>"
      ]
     },
     "metadata": {
      "needs_background": "light"
     },
     "output_type": "display_data"
    },
    {
     "name": "stdout",
     "output_type": "stream",
     "text": [
      "0.06229381777494036\n"
     ]
    }
   ],
   "source": [
    "GBDT = GBDT.fit(X_train, y_train)\n",
    "y_predict = GBDT.predict(X_test)\n",
    "plt.scatter(y_predict, y_test, edgecolor=\"k\")\n",
    "ylim = plt.gca().get_ylim()\n",
    "xlim = plt.gca().get_xlim()\n",
    "plt.plot(ylim, ylim, linestyle=\"--\", color=\"k\")\n",
    "plt.ylim(ylim)\n",
    "plt.xlim(xlim)\n",
    "plt.xlabel(\"$R_{SP, GBDT}$\")\n",
    "plt.ylabel(\"$R_{SP, DM}$\")\n",
    "plt.show()\n",
    "print(metrics.r2_score(y_test, y_predict))"
   ]
  },
  {
   "cell_type": "code",
   "execution_count": 50,
   "id": "a2be9463",
   "metadata": {},
   "outputs": [
    {
     "name": "stdout",
     "output_type": "stream",
     "text": [
      "-0.06590724775920656 0.009303030167359947\n"
     ]
    }
   ],
   "source": [
    "RF = en.RandomForestRegressor()\n",
    "scatter_RF = cross_val_score(RF, X, y, cv=kf, scoring='neg_mean_squared_error')\n",
    "mean_RF = np.mean(scatter_RF)\n",
    "std_RF = np.std(scatter_RF)\n",
    "print(mean_RF, std_RF)"
   ]
  },
  {
   "cell_type": "code",
   "execution_count": 51,
   "id": "7cc21665",
   "metadata": {},
   "outputs": [
    {
     "data": {
      "image/png": "[encoded data removed]",
      "text/plain": [
       "<Figure size 432x288 with 1 Axes>"
      ]
     },
     "metadata": {
      "needs_background": "light"
     },
     "output_type": "display_data"
    },
    {
     "name": "stdout",
     "output_type": "stream",
     "text": [
      "0.014176631715249743\n"
     ]
    }
   ],
   "source": [
    "RF = RF.fit(X_train, y_train)\n",
    "y_predict = RF.predict(X_test)\n",
    "plt.scatter(y_predict, y_test)\n",
    "plt.show()\n",
    "print(metrics.r2_score(y_test, y_predict))"
   ]
  },
  {
   "cell_type": "code",
   "execution_count": 13,
   "id": "b828b0af",
   "metadata": {},
   "outputs": [
    {
     "name": "stdout",
     "output_type": "stream",
     "text": [
      "-0.06871823523209401 0.008071809616709382\n"
     ]
    }
   ],
   "source": [
    "# Create the RFE object and compute a cross-validated score.\n",
    "rf = en.RandomForestRegressor()\n",
    "# The \"accuracy\" scoring shows the proportion of correct classifications\n",
    "\n",
    "min_features_to_select = 5  # Minimum number of features to consider\n",
    "#rfecv = RFE(\n",
    "#    estimator=rf,\n",
    "#    step=1,\n",
    "#    n_features_to_select=min_features_to_select,\n",
    "#)\n",
    "\n",
    "rfecv = RFECV(\n",
    "    estimator=rf,\n",
    "    step=1,\n",
    "    cv=kf,\n",
    "    scoring='neg_mean_squared_error',\n",
    "    min_features_to_select=min_features_to_select,\n",
    ")\n",
    "#print(\"Optimal number of features : %d\" % rfecv.n_features_)\n",
    "\n",
    "scatter_RF = cross_val_score(rfecv, X, y, cv=kf, scoring='neg_mean_squared_error')\n",
    "mean_RF = np.mean(scatter_RF)\n",
    "std_RF = np.std(scatter_RF)\n",
    "print(mean_RF, std_RF)"
   ]
  },
  {
   "cell_type": "code",
   "execution_count": 14,
   "id": "1ce36608",
   "metadata": {},
   "outputs": [
    {
     "data": {
      "image/png": "[encoded data removed]",
      "text/plain": [
       "<Figure size 432x288 with 1 Axes>"
      ]
     },
     "metadata": {
      "needs_background": "light"
     },
     "output_type": "display_data"
    },
    {
     "name": "stdout",
     "output_type": "stream",
     "text": [
      "0.15142829575078154\n"
     ]
    }
   ],
   "source": [
    "rfecv = rfecv.fit(X_train, y_train)\n",
    "y_predict = rfecv.predict(X_test)\n",
    "plt.scatter(y_predict, y_test)\n",
    "plt.show()\n",
    "print(metrics.r2_score(y_test, y_predict))"
   ]
  },
  {
   "cell_type": "code",
   "execution_count": null,
   "id": "dadb5697",
   "metadata": {},
   "outputs": [],
   "source": []
  }
 ],
 "metadata": {
  "kernelspec": {
   "display_name": "Python 3",
   "language": "python",
   "name": "python3"
  },
  "language_info": {
   "codemirror_mode": {
    "name": "ipython",
    "version": 3
   },
   "file_extension": ".py",
   "mimetype": "text/x-python",
   "name": "python",
   "nbconvert_exporter": "python",
   "pygments_lexer": "ipython3",
   "version": "3.8.8"
  }
 },
 "nbformat": 4,
 "nbformat_minor": 5
}
